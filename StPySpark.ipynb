{
  "nbformat": 4,
  "nbformat_minor": 0,
  "metadata": {
    "colab": {
      "name": "StPySpark.ipynb",
      "provenance": [],
      "collapsed_sections": [],
      "mount_file_id": "1FvEqkjJkCLFDZ9g6bcoOYEY3ZVHOFCxS",
      "authorship_tag": "ABX9TyPn+Mm4WmWrWM7iVzjoDP7n",
      "include_colab_link": true
    },
    "kernelspec": {
      "name": "python3",
      "display_name": "Python 3"
    },
    "language_info": {
      "name": "python"
    }
  },
  "cells": [
    {
      "cell_type": "markdown",
      "metadata": {
        "id": "view-in-github",
        "colab_type": "text"
      },
      "source": [
        "<a href=\"https://colab.research.google.com/github/AyaElsawyElghaysh/MachineLearningProject-/blob/master/StPySpark.ipynb\" target=\"_parent\"><img src=\"https://colab.research.google.com/assets/colab-badge.svg\" alt=\"Open In Colab\"/></a>"
      ]
    },
    {
      "cell_type": "code",
      "execution_count": 2,
      "metadata": {
        "colab": {
          "base_uri": "https://localhost:8080/"
        },
        "id": "tdR6DgFmVdMB",
        "outputId": "856b8a95-979b-4fec-c73d-378b069e77a7"
      },
      "outputs": [
        {
          "output_type": "stream",
          "name": "stdout",
          "text": [
            "Looking in indexes: https://pypi.org/simple, https://us-python.pkg.dev/colab-wheels/public/simple/\n",
            "Collecting pyspark\n",
            "  Downloading pyspark-3.3.0.tar.gz (281.3 MB)\n",
            "\u001b[K     |████████████████████████████████| 281.3 MB 46 kB/s \n",
            "\u001b[?25hCollecting py4j\n",
            "  Downloading py4j-0.10.9.5-py2.py3-none-any.whl (199 kB)\n",
            "\u001b[K     |████████████████████████████████| 199 kB 54.4 MB/s \n",
            "\u001b[?25hBuilding wheels for collected packages: pyspark\n",
            "  Building wheel for pyspark (setup.py) ... \u001b[?25l\u001b[?25hdone\n",
            "  Created wheel for pyspark: filename=pyspark-3.3.0-py2.py3-none-any.whl size=281764026 sha256=be3adc39ea70f1b4d45b4c3ff89a04ab8a14c14fa095f3b3de09ee2f74c899f3\n",
            "  Stored in directory: /root/.cache/pip/wheels/7a/8e/1b/f73a52650d2e5f337708d9f6a1750d451a7349a867f928b885\n",
            "Successfully built pyspark\n",
            "Installing collected packages: py4j, pyspark\n",
            "Successfully installed py4j-0.10.9.5 pyspark-3.3.0\n"
          ]
        }
      ],
      "source": [
        "!pip install pyspark py4j"
      ]
    },
    {
      "cell_type": "code",
      "source": [
        "from pyspark.sql import SparkSession\n",
        "import  pyspark.sql.functions as fn"
      ],
      "metadata": {
        "id": "4JN1OGdhVxnx"
      },
      "execution_count": 120,
      "outputs": []
    },
    {
      "cell_type": "code",
      "source": [
        "spark=SparkSession.builder.getOrCreate()"
      ],
      "metadata": {
        "id": "0f9GQY64Vhua"
      },
      "execution_count": 4,
      "outputs": []
    },
    {
      "cell_type": "code",
      "source": [
        "house_df=spark.read.parquet(\"/content/drive/MyDrive/Spark_data/data/parquet/2010-summary.parquet/sf-airbnb-clean.parquet\")"
      ],
      "metadata": {
        "id": "duSUFIEGVy1z"
      },
      "execution_count": 7,
      "outputs": []
    },
    {
      "cell_type": "code",
      "source": [
        "house_df.printSchema()"
      ],
      "metadata": {
        "id": "UP7hlRB4WFlT",
        "colab": {
          "base_uri": "https://localhost:8080/"
        },
        "outputId": "9ee77880-a93c-4ce2-9dc1-cffc5e004f12"
      },
      "execution_count": 8,
      "outputs": [
        {
          "output_type": "stream",
          "name": "stdout",
          "text": [
            "root\n",
            " |-- host_is_superhost: string (nullable = true)\n",
            " |-- cancellation_policy: string (nullable = true)\n",
            " |-- instant_bookable: string (nullable = true)\n",
            " |-- host_total_listings_count: double (nullable = true)\n",
            " |-- neighbourhood_cleansed: string (nullable = true)\n",
            " |-- latitude: double (nullable = true)\n",
            " |-- longitude: double (nullable = true)\n",
            " |-- property_type: string (nullable = true)\n",
            " |-- room_type: string (nullable = true)\n",
            " |-- accommodates: double (nullable = true)\n",
            " |-- bathrooms: double (nullable = true)\n",
            " |-- bedrooms: double (nullable = true)\n",
            " |-- beds: double (nullable = true)\n",
            " |-- bed_type: string (nullable = true)\n",
            " |-- minimum_nights: double (nullable = true)\n",
            " |-- number_of_reviews: double (nullable = true)\n",
            " |-- review_scores_rating: double (nullable = true)\n",
            " |-- review_scores_accuracy: double (nullable = true)\n",
            " |-- review_scores_cleanliness: double (nullable = true)\n",
            " |-- review_scores_checkin: double (nullable = true)\n",
            " |-- review_scores_communication: double (nullable = true)\n",
            " |-- review_scores_location: double (nullable = true)\n",
            " |-- review_scores_value: double (nullable = true)\n",
            " |-- price: double (nullable = true)\n",
            " |-- bedrooms_na: double (nullable = true)\n",
            " |-- bathrooms_na: double (nullable = true)\n",
            " |-- beds_na: double (nullable = true)\n",
            " |-- review_scores_rating_na: double (nullable = true)\n",
            " |-- review_scores_accuracy_na: double (nullable = true)\n",
            " |-- review_scores_cleanliness_na: double (nullable = true)\n",
            " |-- review_scores_checkin_na: double (nullable = true)\n",
            " |-- review_scores_communication_na: double (nullable = true)\n",
            " |-- review_scores_location_na: double (nullable = true)\n",
            " |-- review_scores_value_na: double (nullable = true)\n",
            "\n"
          ]
        }
      ]
    },
    {
      "cell_type": "code",
      "source": [
        "house_df.dtypes"
      ],
      "metadata": {
        "colab": {
          "base_uri": "https://localhost:8080/"
        },
        "id": "mKwO2wtEBB6c",
        "outputId": "8966641a-a1a5-40c9-9980-64a79ad4b2b9"
      },
      "execution_count": 10,
      "outputs": [
        {
          "output_type": "execute_result",
          "data": {
            "text/plain": [
              "[('host_is_superhost', 'string'),\n",
              " ('cancellation_policy', 'string'),\n",
              " ('instant_bookable', 'string'),\n",
              " ('host_total_listings_count', 'double'),\n",
              " ('neighbourhood_cleansed', 'string'),\n",
              " ('latitude', 'double'),\n",
              " ('longitude', 'double'),\n",
              " ('property_type', 'string'),\n",
              " ('room_type', 'string'),\n",
              " ('accommodates', 'double'),\n",
              " ('bathrooms', 'double'),\n",
              " ('bedrooms', 'double'),\n",
              " ('beds', 'double'),\n",
              " ('bed_type', 'string'),\n",
              " ('minimum_nights', 'double'),\n",
              " ('number_of_reviews', 'double'),\n",
              " ('review_scores_rating', 'double'),\n",
              " ('review_scores_accuracy', 'double'),\n",
              " ('review_scores_cleanliness', 'double'),\n",
              " ('review_scores_checkin', 'double'),\n",
              " ('review_scores_communication', 'double'),\n",
              " ('review_scores_location', 'double'),\n",
              " ('review_scores_value', 'double'),\n",
              " ('price', 'double'),\n",
              " ('bedrooms_na', 'double'),\n",
              " ('bathrooms_na', 'double'),\n",
              " ('beds_na', 'double'),\n",
              " ('review_scores_rating_na', 'double'),\n",
              " ('review_scores_accuracy_na', 'double'),\n",
              " ('review_scores_cleanliness_na', 'double'),\n",
              " ('review_scores_checkin_na', 'double'),\n",
              " ('review_scores_communication_na', 'double'),\n",
              " ('review_scores_location_na', 'double'),\n",
              " ('review_scores_value_na', 'double')]"
            ]
          },
          "metadata": {},
          "execution_count": 10
        }
      ]
    },
    {
      "cell_type": "code",
      "source": [
        "import seaborn as sns\n",
        "import matplotlib.pyplot as plt"
      ],
      "metadata": {
        "id": "hPKayvJtiBRR"
      },
      "execution_count": 113,
      "outputs": []
    },
    {
      "cell_type": "code",
      "source": [
        "house_df.describe().select(\"summary\",\"price\").show()"
      ],
      "metadata": {
        "colab": {
          "base_uri": "https://localhost:8080/"
        },
        "id": "xY_rDicsiGd3",
        "outputId": "c4a8a166-bbf9-4403-87b2-a50e63d1d128"
      },
      "execution_count": 115,
      "outputs": [
        {
          "output_type": "stream",
          "name": "stdout",
          "text": [
            "+-------+------------------+\n",
            "|summary|             price|\n",
            "+-------+------------------+\n",
            "|  count|              7146|\n",
            "|   mean|213.30982367758187|\n",
            "| stddev| 311.3754991591505|\n",
            "|    min|              10.0|\n",
            "|    max|           10000.0|\n",
            "+-------+------------------+\n",
            "\n"
          ]
        }
      ]
    },
    {
      "cell_type": "code",
      "source": [
        "price_df=house_df.select(\"price\").toPandas()\n",
        "price_df"
      ],
      "metadata": {
        "colab": {
          "base_uri": "https://localhost:8080/",
          "height": 424
        },
        "id": "TqtRug7Yinsl",
        "outputId": "44b243ef-c7da-4692-bb31-0364c85d4289"
      },
      "execution_count": 117,
      "outputs": [
        {
          "output_type": "execute_result",
          "data": {
            "text/plain": [
              "      price\n",
              "0     170.0\n",
              "1     235.0\n",
              "2      65.0\n",
              "3      65.0\n",
              "4     785.0\n",
              "...     ...\n",
              "7141  163.0\n",
              "7142  160.0\n",
              "7143  249.0\n",
              "7144  105.0\n",
              "7145  125.0\n",
              "\n",
              "[7146 rows x 1 columns]"
            ],
            "text/html": [
              "\n",
              "  <div id=\"df-7272db30-ae4c-4e74-a7d2-03d06c32f7e5\">\n",
              "    <div class=\"colab-df-container\">\n",
              "      <div>\n",
              "<style scoped>\n",
              "    .dataframe tbody tr th:only-of-type {\n",
              "        vertical-align: middle;\n",
              "    }\n",
              "\n",
              "    .dataframe tbody tr th {\n",
              "        vertical-align: top;\n",
              "    }\n",
              "\n",
              "    .dataframe thead th {\n",
              "        text-align: right;\n",
              "    }\n",
              "</style>\n",
              "<table border=\"1\" class=\"dataframe\">\n",
              "  <thead>\n",
              "    <tr style=\"text-align: right;\">\n",
              "      <th></th>\n",
              "      <th>price</th>\n",
              "    </tr>\n",
              "  </thead>\n",
              "  <tbody>\n",
              "    <tr>\n",
              "      <th>0</th>\n",
              "      <td>170.0</td>\n",
              "    </tr>\n",
              "    <tr>\n",
              "      <th>1</th>\n",
              "      <td>235.0</td>\n",
              "    </tr>\n",
              "    <tr>\n",
              "      <th>2</th>\n",
              "      <td>65.0</td>\n",
              "    </tr>\n",
              "    <tr>\n",
              "      <th>3</th>\n",
              "      <td>65.0</td>\n",
              "    </tr>\n",
              "    <tr>\n",
              "      <th>4</th>\n",
              "      <td>785.0</td>\n",
              "    </tr>\n",
              "    <tr>\n",
              "      <th>...</th>\n",
              "      <td>...</td>\n",
              "    </tr>\n",
              "    <tr>\n",
              "      <th>7141</th>\n",
              "      <td>163.0</td>\n",
              "    </tr>\n",
              "    <tr>\n",
              "      <th>7142</th>\n",
              "      <td>160.0</td>\n",
              "    </tr>\n",
              "    <tr>\n",
              "      <th>7143</th>\n",
              "      <td>249.0</td>\n",
              "    </tr>\n",
              "    <tr>\n",
              "      <th>7144</th>\n",
              "      <td>105.0</td>\n",
              "    </tr>\n",
              "    <tr>\n",
              "      <th>7145</th>\n",
              "      <td>125.0</td>\n",
              "    </tr>\n",
              "  </tbody>\n",
              "</table>\n",
              "<p>7146 rows × 1 columns</p>\n",
              "</div>\n",
              "      <button class=\"colab-df-convert\" onclick=\"convertToInteractive('df-7272db30-ae4c-4e74-a7d2-03d06c32f7e5')\"\n",
              "              title=\"Convert this dataframe to an interactive table.\"\n",
              "              style=\"display:none;\">\n",
              "        \n",
              "  <svg xmlns=\"http://www.w3.org/2000/svg\" height=\"24px\"viewBox=\"0 0 24 24\"\n",
              "       width=\"24px\">\n",
              "    <path d=\"M0 0h24v24H0V0z\" fill=\"none\"/>\n",
              "    <path d=\"M18.56 5.44l.94 2.06.94-2.06 2.06-.94-2.06-.94-.94-2.06-.94 2.06-2.06.94zm-11 1L8.5 8.5l.94-2.06 2.06-.94-2.06-.94L8.5 2.5l-.94 2.06-2.06.94zm10 10l.94 2.06.94-2.06 2.06-.94-2.06-.94-.94-2.06-.94 2.06-2.06.94z\"/><path d=\"M17.41 7.96l-1.37-1.37c-.4-.4-.92-.59-1.43-.59-.52 0-1.04.2-1.43.59L10.3 9.45l-7.72 7.72c-.78.78-.78 2.05 0 2.83L4 21.41c.39.39.9.59 1.41.59.51 0 1.02-.2 1.41-.59l7.78-7.78 2.81-2.81c.8-.78.8-2.07 0-2.86zM5.41 20L4 18.59l7.72-7.72 1.47 1.35L5.41 20z\"/>\n",
              "  </svg>\n",
              "      </button>\n",
              "      \n",
              "  <style>\n",
              "    .colab-df-container {\n",
              "      display:flex;\n",
              "      flex-wrap:wrap;\n",
              "      gap: 12px;\n",
              "    }\n",
              "\n",
              "    .colab-df-convert {\n",
              "      background-color: #E8F0FE;\n",
              "      border: none;\n",
              "      border-radius: 50%;\n",
              "      cursor: pointer;\n",
              "      display: none;\n",
              "      fill: #1967D2;\n",
              "      height: 32px;\n",
              "      padding: 0 0 0 0;\n",
              "      width: 32px;\n",
              "    }\n",
              "\n",
              "    .colab-df-convert:hover {\n",
              "      background-color: #E2EBFA;\n",
              "      box-shadow: 0px 1px 2px rgba(60, 64, 67, 0.3), 0px 1px 3px 1px rgba(60, 64, 67, 0.15);\n",
              "      fill: #174EA6;\n",
              "    }\n",
              "\n",
              "    [theme=dark] .colab-df-convert {\n",
              "      background-color: #3B4455;\n",
              "      fill: #D2E3FC;\n",
              "    }\n",
              "\n",
              "    [theme=dark] .colab-df-convert:hover {\n",
              "      background-color: #434B5C;\n",
              "      box-shadow: 0px 1px 3px 1px rgba(0, 0, 0, 0.15);\n",
              "      filter: drop-shadow(0px 1px 2px rgba(0, 0, 0, 0.3));\n",
              "      fill: #FFFFFF;\n",
              "    }\n",
              "  </style>\n",
              "\n",
              "      <script>\n",
              "        const buttonEl =\n",
              "          document.querySelector('#df-7272db30-ae4c-4e74-a7d2-03d06c32f7e5 button.colab-df-convert');\n",
              "        buttonEl.style.display =\n",
              "          google.colab.kernel.accessAllowed ? 'block' : 'none';\n",
              "\n",
              "        async function convertToInteractive(key) {\n",
              "          const element = document.querySelector('#df-7272db30-ae4c-4e74-a7d2-03d06c32f7e5');\n",
              "          const dataTable =\n",
              "            await google.colab.kernel.invokeFunction('convertToInteractive',\n",
              "                                                     [key], {});\n",
              "          if (!dataTable) return;\n",
              "\n",
              "          const docLinkHtml = 'Like what you see? Visit the ' +\n",
              "            '<a target=\"_blank\" href=https://colab.research.google.com/notebooks/data_table.ipynb>data table notebook</a>'\n",
              "            + ' to learn more about interactive tables.';\n",
              "          element.innerHTML = '';\n",
              "          dataTable['output_type'] = 'display_data';\n",
              "          await google.colab.output.renderOutput(dataTable, element);\n",
              "          const docLink = document.createElement('div');\n",
              "          docLink.innerHTML = docLinkHtml;\n",
              "          element.appendChild(docLink);\n",
              "        }\n",
              "      </script>\n",
              "    </div>\n",
              "  </div>\n",
              "  "
            ]
          },
          "metadata": {},
          "execution_count": 117
        }
      ]
    },
    {
      "cell_type": "code",
      "source": [
        "plt.figure(figsize=(10,6))\n",
        "sns.histplot(price_df['price'],bins=200)\n",
        "plt.show()\n"
      ],
      "metadata": {
        "colab": {
          "base_uri": "https://localhost:8080/",
          "height": 388
        },
        "id": "2UoSCyx7iznO",
        "outputId": "f53f67d6-66c3-4f28-a7d5-158da9c2192f"
      },
      "execution_count": 119,
      "outputs": [
        {
          "output_type": "display_data",
          "data": {
            "text/plain": [
              "<Figure size 720x432 with 1 Axes>"
            ],
            "image/png": "[encoded data removed]"
          },
          "metadata": {
            "needs_background": "light"
          }
        }
      ]
    },
    {
      "cell_type": "code",
      "source": [
        "#we can take log to convert it from right skewness to normal\n",
        "price_log=house_df.withColumn(\"logprice\",fn.log(house_df[\"price\"]))"
      ],
      "metadata": {
        "id": "8kOlJDbajnoY"
      },
      "execution_count": 121,
      "outputs": []
    },
    {
      "cell_type": "code",
      "source": [
        "price_log.printSchema()\n"
      ],
      "metadata": {
        "colab": {
          "base_uri": "https://localhost:8080/"
        },
        "id": "2JP-aYbbk3Fi",
        "outputId": "b95e2b6d-07a0-4900-851f-043721b87024"
      },
      "execution_count": 125,
      "outputs": [
        {
          "output_type": "stream",
          "name": "stdout",
          "text": [
            "root\n",
            " |-- host_is_superhost: string (nullable = true)\n",
            " |-- cancellation_policy: string (nullable = true)\n",
            " |-- instant_bookable: string (nullable = true)\n",
            " |-- host_total_listings_count: double (nullable = true)\n",
            " |-- neighbourhood_cleansed: string (nullable = true)\n",
            " |-- latitude: double (nullable = true)\n",
            " |-- longitude: double (nullable = true)\n",
            " |-- property_type: string (nullable = true)\n",
            " |-- room_type: string (nullable = true)\n",
            " |-- accommodates: double (nullable = true)\n",
            " |-- bathrooms: double (nullable = true)\n",
            " |-- bedrooms: double (nullable = true)\n",
            " |-- beds: double (nullable = true)\n",
            " |-- bed_type: string (nullable = true)\n",
            " |-- minimum_nights: double (nullable = true)\n",
            " |-- number_of_reviews: double (nullable = true)\n",
            " |-- review_scores_rating: double (nullable = true)\n",
            " |-- review_scores_accuracy: double (nullable = true)\n",
            " |-- review_scores_cleanliness: double (nullable = true)\n",
            " |-- review_scores_checkin: double (nullable = true)\n",
            " |-- review_scores_communication: double (nullable = true)\n",
            " |-- review_scores_location: double (nullable = true)\n",
            " |-- review_scores_value: double (nullable = true)\n",
            " |-- price: double (nullable = true)\n",
            " |-- bedrooms_na: double (nullable = true)\n",
            " |-- bathrooms_na: double (nullable = true)\n",
            " |-- beds_na: double (nullable = true)\n",
            " |-- review_scores_rating_na: double (nullable = true)\n",
            " |-- review_scores_accuracy_na: double (nullable = true)\n",
            " |-- review_scores_cleanliness_na: double (nullable = true)\n",
            " |-- review_scores_checkin_na: double (nullable = true)\n",
            " |-- review_scores_communication_na: double (nullable = true)\n",
            " |-- review_scores_location_na: double (nullable = true)\n",
            " |-- review_scores_value_na: double (nullable = true)\n",
            " |-- logprice: double (nullable = true)\n",
            "\n"
          ]
        }
      ]
    },
    {
      "cell_type": "code",
      "source": [
        "new_price=price_log.select(\"logprice\").toPandas()"
      ],
      "metadata": {
        "id": "fzkKxR8nlcxD"
      },
      "execution_count": 129,
      "outputs": []
    },
    {
      "cell_type": "code",
      "source": [
        "plt.figure(figsize=(10,6))\n",
        "sns.histplot(new_price['logprice'],bins=200)\n",
        "plt.show()"
      ],
      "metadata": {
        "colab": {
          "base_uri": "https://localhost:8080/",
          "height": 388
        },
        "id": "U5EJqEE3kdhi",
        "outputId": "a5afea65-2249-484f-8d4b-b6bcb91ed384"
      },
      "execution_count": 131,
      "outputs": [
        {
          "output_type": "display_data",
          "data": {
            "text/plain": [
              "<Figure size 720x432 with 1 Axes>"
            ],
            "image/png": "[encoded data removed]"
          },
          "metadata": {
            "needs_background": "light"
          }
        }
      ]
    },
    {
      "cell_type": "code",
      "source": [
        "def choose_any_target(feature,target=\"price\"):\n",
        "  return house_df.select(feature,target).show()"
      ],
      "metadata": {
        "id": "KmsvjDcZBjbT"
      },
      "execution_count": 12,
      "outputs": []
    },
    {
      "cell_type": "code",
      "source": [
        "choose_any_target(\"bedrooms\")"
      ],
      "metadata": {
        "colab": {
          "base_uri": "https://localhost:8080/"
        },
        "id": "k_PhEnF5BNiX",
        "outputId": "c9992051-d65c-49b3-8f8f-b66b6e3c3309"
      },
      "execution_count": 41,
      "outputs": [
        {
          "output_type": "stream",
          "name": "stdout",
          "text": [
            "+--------+-----+\n",
            "|bedrooms|price|\n",
            "+--------+-----+\n",
            "|     1.0|170.0|\n",
            "|     2.0|235.0|\n",
            "|     1.0| 65.0|\n",
            "|     1.0| 65.0|\n",
            "|     2.0|785.0|\n",
            "|     2.0|255.0|\n",
            "|     1.0|139.0|\n",
            "|     1.0|135.0|\n",
            "|     2.0|265.0|\n",
            "|     3.0|177.0|\n",
            "|     3.0|194.0|\n",
            "|     1.0|139.0|\n",
            "|     1.0| 85.0|\n",
            "|     1.0| 85.0|\n",
            "|     1.0| 79.0|\n",
            "|     2.0|136.0|\n",
            "|     1.0|215.0|\n",
            "|     2.0|450.0|\n",
            "|     0.0|107.0|\n",
            "|     1.0|110.0|\n",
            "+--------+-----+\n",
            "only showing top 20 rows\n",
            "\n"
          ]
        }
      ]
    },
    {
      "cell_type": "code",
      "source": [
        "#we will apply linear regression model\n",
        "#so we need to convert features to vector feature"
      ],
      "metadata": {
        "id": "ht6X7ltMB64j"
      },
      "execution_count": 42,
      "outputs": []
    },
    {
      "cell_type": "markdown",
      "source": [
        "SplitDataFrame"
      ],
      "metadata": {
        "id": "mNdWjMeSCWB2"
      }
    },
    {
      "cell_type": "code",
      "source": [
        "traindf,testdf=house_df.randomSplit([.8,.2],seed=42)"
      ],
      "metadata": {
        "id": "1ncKVBn8CKKT"
      },
      "execution_count": 43,
      "outputs": []
    },
    {
      "cell_type": "code",
      "source": [
        "#vector assembler \n",
        "from pyspark.ml.feature import VectorAssembler"
      ],
      "metadata": {
        "id": "k4ktBoO6CfWy"
      },
      "execution_count": 44,
      "outputs": []
    },
    {
      "cell_type": "code",
      "source": [
        "vecAssembler=VectorAssembler(inputCols=[\"bedrooms\",\"bathrooms\"],outputCol=\"features\")\n",
        "vec_train_df=vecAssembler.transform(traindf)"
      ],
      "metadata": {
        "id": "GOxjtSEAD6RU"
      },
      "execution_count": 45,
      "outputs": []
    },
    {
      "cell_type": "code",
      "source": [
        "vec_train_df.printSchema()"
      ],
      "metadata": {
        "colab": {
          "base_uri": "https://localhost:8080/"
        },
        "id": "mIC2qJQjEPw9",
        "outputId": "762ca286-82c8-4806-e95a-533b19f9638d"
      },
      "execution_count": 46,
      "outputs": [
        {
          "output_type": "stream",
          "name": "stdout",
          "text": [
            "root\n",
            " |-- host_is_superhost: string (nullable = true)\n",
            " |-- cancellation_policy: string (nullable = true)\n",
            " |-- instant_bookable: string (nullable = true)\n",
            " |-- host_total_listings_count: double (nullable = true)\n",
            " |-- neighbourhood_cleansed: string (nullable = true)\n",
            " |-- latitude: double (nullable = true)\n",
            " |-- longitude: double (nullable = true)\n",
            " |-- property_type: string (nullable = true)\n",
            " |-- room_type: string (nullable = true)\n",
            " |-- accommodates: double (nullable = true)\n",
            " |-- bathrooms: double (nullable = true)\n",
            " |-- bedrooms: double (nullable = true)\n",
            " |-- beds: double (nullable = true)\n",
            " |-- bed_type: string (nullable = true)\n",
            " |-- minimum_nights: double (nullable = true)\n",
            " |-- number_of_reviews: double (nullable = true)\n",
            " |-- review_scores_rating: double (nullable = true)\n",
            " |-- review_scores_accuracy: double (nullable = true)\n",
            " |-- review_scores_cleanliness: double (nullable = true)\n",
            " |-- review_scores_checkin: double (nullable = true)\n",
            " |-- review_scores_communication: double (nullable = true)\n",
            " |-- review_scores_location: double (nullable = true)\n",
            " |-- review_scores_value: double (nullable = true)\n",
            " |-- price: double (nullable = true)\n",
            " |-- bedrooms_na: double (nullable = true)\n",
            " |-- bathrooms_na: double (nullable = true)\n",
            " |-- beds_na: double (nullable = true)\n",
            " |-- review_scores_rating_na: double (nullable = true)\n",
            " |-- review_scores_accuracy_na: double (nullable = true)\n",
            " |-- review_scores_cleanliness_na: double (nullable = true)\n",
            " |-- review_scores_checkin_na: double (nullable = true)\n",
            " |-- review_scores_communication_na: double (nullable = true)\n",
            " |-- review_scores_location_na: double (nullable = true)\n",
            " |-- review_scores_value_na: double (nullable = true)\n",
            " |-- features: vector (nullable = true)\n",
            "\n"
          ]
        }
      ]
    },
    {
      "cell_type": "code",
      "source": [
        "vec_train_df.select(\"bedrooms\",\"features\",\"cancellation_policy\",\"price\").show()"
      ],
      "metadata": {
        "colab": {
          "base_uri": "https://localhost:8080/"
        },
        "id": "3xgh3cYBEbPI",
        "outputId": "ad38ce3b-8861-4ca4-b6f4-c408d96320a7"
      },
      "execution_count": 97,
      "outputs": [
        {
          "output_type": "stream",
          "name": "stdout",
          "text": [
            "+--------+---------+-------------------+-----+\n",
            "|bedrooms| features|cancellation_policy|price|\n",
            "+--------+---------+-------------------+-----+\n",
            "|     1.0|[1.0,1.0]|           flexible|200.0|\n",
            "|     1.0|[1.0,1.0]|           flexible|130.0|\n",
            "|     1.0|[1.0,1.0]|           flexible| 95.0|\n",
            "|     1.0|[1.0,1.0]|           flexible|250.0|\n",
            "|     3.0|[3.0,3.0]|           flexible|250.0|\n",
            "|     1.0|[1.0,1.0]|           flexible|115.0|\n",
            "|     1.0|[1.0,1.5]|           flexible|105.0|\n",
            "|     1.0|[1.0,1.0]|           flexible| 86.0|\n",
            "|     1.0|[1.0,1.0]|           flexible|100.0|\n",
            "|     2.0|[2.0,1.0]|           flexible|220.0|\n",
            "|     1.0|[1.0,1.0]|           flexible|110.0|\n",
            "|     1.0|[1.0,1.0]|           flexible|130.0|\n",
            "|     1.0|[1.0,1.0]|           flexible|250.0|\n",
            "|     1.0|[1.0,1.0]|           flexible|100.0|\n",
            "|     3.0|[3.0,2.0]|           flexible|350.0|\n",
            "|     2.0|[2.0,2.0]|           flexible|200.0|\n",
            "|     1.0|[1.0,2.0]|           flexible|250.0|\n",
            "|     2.0|[2.0,1.0]|           flexible|299.0|\n",
            "|     1.0|[1.0,1.5]|           flexible| 95.0|\n",
            "|     3.0|[3.0,2.5]|           flexible|500.0|\n",
            "+--------+---------+-------------------+-----+\n",
            "only showing top 20 rows\n",
            "\n"
          ]
        }
      ]
    },
    {
      "cell_type": "code",
      "source": [
        "#from the above cell we notice that bedrooms col id converted to vectorcols \"features\""
      ],
      "metadata": {
        "id": "jOKgoiv1Ey7m"
      },
      "execution_count": 48,
      "outputs": []
    },
    {
      "cell_type": "code",
      "source": [
        "#if we selectmore cols input vecAssembler=VectorAssembler(inputCols=[\"bedrooms\",\"bathrooms\"],outputCol=\"features\")\n",
        "#vec_train_df=vecAssembler.transform(traindf)\n"
      ],
      "metadata": {
        "id": "kOR8NOU_E_xB"
      },
      "execution_count": 49,
      "outputs": []
    },
    {
      "cell_type": "code",
      "source": [
        "#now model \n",
        "from pyspark.ml.regression import LinearRegression"
      ],
      "metadata": {
        "id": "mCceLgUbFs1I"
      },
      "execution_count": 50,
      "outputs": []
    },
    {
      "cell_type": "code",
      "source": [
        "lr=LinearRegression(featuresCol=\"features\",labelCol=\"price\",predictionCol=\"prediction\")"
      ],
      "metadata": {
        "id": "85PgVI7GF9Dl"
      },
      "execution_count": 51,
      "outputs": []
    },
    {
      "cell_type": "code",
      "source": [
        "lrmodel=lr.fit(vec_train_df) "
      ],
      "metadata": {
        "id": "pQuytbNzGWoT"
      },
      "execution_count": 52,
      "outputs": []
    },
    {
      "cell_type": "code",
      "source": [
        "#we need apply the above vect on test data set\n",
        "\n",
        "vec_test_df=vecAssembler.transform(testdf)"
      ],
      "metadata": {
        "id": "UKtTmi3iGjPI"
      },
      "execution_count": 53,
      "outputs": []
    },
    {
      "cell_type": "code",
      "source": [
        "vec_test_df.select(\"bedrooms\",\"bathrooms\",\"price\").show()"
      ],
      "metadata": {
        "colab": {
          "base_uri": "https://localhost:8080/"
        },
        "id": "XBq19O-HHC90",
        "outputId": "17a88109-43ae-4fc8-d3bf-1f3aeafeebcb"
      },
      "execution_count": 54,
      "outputs": [
        {
          "output_type": "stream",
          "name": "stdout",
          "text": [
            "+--------+---------+------+\n",
            "|bedrooms|bathrooms| price|\n",
            "+--------+---------+------+\n",
            "|     1.0|      1.0|  85.0|\n",
            "|     1.0|      1.0|  45.0|\n",
            "|     1.0|      1.0|  70.0|\n",
            "|     1.0|      1.0| 128.0|\n",
            "|     1.0|      1.0| 159.0|\n",
            "|     2.0|      1.0| 250.0|\n",
            "|     1.0|      1.0|  99.0|\n",
            "|     1.0|      1.0|  95.0|\n",
            "|     1.0|      1.0| 100.0|\n",
            "|     1.0|      1.0|2010.0|\n",
            "|     1.0|      1.0| 270.0|\n",
            "|     2.0|      3.0| 500.0|\n",
            "|     0.0|      1.0| 125.0|\n",
            "|     3.0|      1.0| 210.0|\n",
            "|     1.0|      1.5|  60.0|\n",
            "|     3.0|      2.0| 170.0|\n",
            "|     1.0|      1.0| 214.0|\n",
            "|     1.0|      1.0| 120.0|\n",
            "|     1.0|      2.0|  82.0|\n",
            "|     3.0|      1.0| 169.0|\n",
            "+--------+---------+------+\n",
            "only showing top 20 rows\n",
            "\n"
          ]
        }
      ]
    },
    {
      "cell_type": "code",
      "source": [
        "pred=lrmodel.transform(vec_test_df)"
      ],
      "metadata": {
        "id": "g8OTN3qlHhO5"
      },
      "execution_count": 55,
      "outputs": []
    },
    {
      "cell_type": "code",
      "source": [
        "pred.printSchema()"
      ],
      "metadata": {
        "colab": {
          "base_uri": "https://localhost:8080/"
        },
        "id": "2JAaGTCMH80A",
        "outputId": "8a84fc02-776b-4f50-e571-d317b5ef9771"
      },
      "execution_count": 56,
      "outputs": [
        {
          "output_type": "stream",
          "name": "stdout",
          "text": [
            "root\n",
            " |-- host_is_superhost: string (nullable = true)\n",
            " |-- cancellation_policy: string (nullable = true)\n",
            " |-- instant_bookable: string (nullable = true)\n",
            " |-- host_total_listings_count: double (nullable = true)\n",
            " |-- neighbourhood_cleansed: string (nullable = true)\n",
            " |-- latitude: double (nullable = true)\n",
            " |-- longitude: double (nullable = true)\n",
            " |-- property_type: string (nullable = true)\n",
            " |-- room_type: string (nullable = true)\n",
            " |-- accommodates: double (nullable = true)\n",
            " |-- bathrooms: double (nullable = true)\n",
            " |-- bedrooms: double (nullable = true)\n",
            " |-- beds: double (nullable = true)\n",
            " |-- bed_type: string (nullable = true)\n",
            " |-- minimum_nights: double (nullable = true)\n",
            " |-- number_of_reviews: double (nullable = true)\n",
            " |-- review_scores_rating: double (nullable = true)\n",
            " |-- review_scores_accuracy: double (nullable = true)\n",
            " |-- review_scores_cleanliness: double (nullable = true)\n",
            " |-- review_scores_checkin: double (nullable = true)\n",
            " |-- review_scores_communication: double (nullable = true)\n",
            " |-- review_scores_location: double (nullable = true)\n",
            " |-- review_scores_value: double (nullable = true)\n",
            " |-- price: double (nullable = true)\n",
            " |-- bedrooms_na: double (nullable = true)\n",
            " |-- bathrooms_na: double (nullable = true)\n",
            " |-- beds_na: double (nullable = true)\n",
            " |-- review_scores_rating_na: double (nullable = true)\n",
            " |-- review_scores_accuracy_na: double (nullable = true)\n",
            " |-- review_scores_cleanliness_na: double (nullable = true)\n",
            " |-- review_scores_checkin_na: double (nullable = true)\n",
            " |-- review_scores_communication_na: double (nullable = true)\n",
            " |-- review_scores_location_na: double (nullable = true)\n",
            " |-- review_scores_value_na: double (nullable = true)\n",
            " |-- features: vector (nullable = true)\n",
            " |-- prediction: double (nullable = false)\n",
            "\n"
          ]
        }
      ]
    },
    {
      "cell_type": "code",
      "source": [
        "pred.select(\"price\",\"prediction\").show()"
      ],
      "metadata": {
        "colab": {
          "base_uri": "https://localhost:8080/"
        },
        "id": "JaXsyBmdH_9D",
        "outputId": "42169071-3008-426a-de02-8072efde2f53"
      },
      "execution_count": 58,
      "outputs": [
        {
          "output_type": "stream",
          "name": "stdout",
          "text": [
            "+------+------------------+\n",
            "| price|        prediction|\n",
            "+------+------------------+\n",
            "|  85.0|167.92639278679684|\n",
            "|  45.0|167.92639278679684|\n",
            "|  70.0|167.92639278679684|\n",
            "| 128.0|167.92639278679684|\n",
            "| 159.0|167.92639278679684|\n",
            "| 250.0| 286.2297008427317|\n",
            "|  99.0|167.92639278679684|\n",
            "|  95.0|167.92639278679684|\n",
            "| 100.0|167.92639278679684|\n",
            "|2010.0|167.92639278679684|\n",
            "| 270.0|167.92639278679684|\n",
            "| 500.0|317.19255388614835|\n",
            "| 125.0| 49.62308473086203|\n",
            "| 210.0| 404.5330088986664|\n",
            "|  60.0|175.66710604765103|\n",
            "| 170.0| 420.0144354203748|\n",
            "| 214.0|167.92639278679684|\n",
            "| 120.0|167.92639278679684|\n",
            "|  82.0|183.40781930850522|\n",
            "| 169.0| 404.5330088986664|\n",
            "+------+------------------+\n",
            "only showing top 20 rows\n",
            "\n"
          ]
        }
      ]
    },
    {
      "cell_type": "markdown",
      "source": [
        "PipeLine to perform operation easily instead of the above"
      ],
      "metadata": {
        "id": "b-gxPu7tIO5r"
      }
    },
    {
      "cell_type": "code",
      "source": [
        "vecAssembler=VectorAssembler(inputCols=[\"bedrooms\",\"bathrooms\"],outputCol=\"features\")\n",
        "lr=LinearRegression(featuresCol=\"features\",labelCol=\"price\",predictionCol=\"prediction\")\n"
      ],
      "metadata": {
        "id": "gJxDcVgcIJXs"
      },
      "execution_count": 60,
      "outputs": []
    },
    {
      "cell_type": "code",
      "source": [
        "from pyspark.ml.pipeline import Pipeline"
      ],
      "metadata": {
        "id": "HQNC0SrzIxlp"
      },
      "execution_count": 59,
      "outputs": []
    },
    {
      "cell_type": "code",
      "source": [
        "pl=Pipeline(stages=[vecAssembler,lr])"
      ],
      "metadata": {
        "id": "npGuFMUMI4yG"
      },
      "execution_count": 61,
      "outputs": []
    },
    {
      "cell_type": "code",
      "source": [
        "pl_model=pl.fit(traindf)"
      ],
      "metadata": {
        "id": "GkaP7cLGJDxO"
      },
      "execution_count": 62,
      "outputs": []
    },
    {
      "cell_type": "code",
      "source": [
        "prediction=pl_model.transform(testdf)"
      ],
      "metadata": {
        "id": "12CsPXY-JRSY"
      },
      "execution_count": 63,
      "outputs": []
    },
    {
      "cell_type": "code",
      "source": [
        "prediction.select(\"price\",\"prediction\").show()"
      ],
      "metadata": {
        "colab": {
          "base_uri": "https://localhost:8080/"
        },
        "id": "twgngJrpJd3r",
        "outputId": "545d839c-735b-4203-d82b-42dd2d1fe539"
      },
      "execution_count": 64,
      "outputs": [
        {
          "output_type": "stream",
          "name": "stdout",
          "text": [
            "+------+------------------+\n",
            "| price|        prediction|\n",
            "+------+------------------+\n",
            "|  85.0|167.92639278679684|\n",
            "|  45.0|167.92639278679684|\n",
            "|  70.0|167.92639278679684|\n",
            "| 128.0|167.92639278679684|\n",
            "| 159.0|167.92639278679684|\n",
            "| 250.0| 286.2297008427317|\n",
            "|  99.0|167.92639278679684|\n",
            "|  95.0|167.92639278679684|\n",
            "| 100.0|167.92639278679684|\n",
            "|2010.0|167.92639278679684|\n",
            "| 270.0|167.92639278679684|\n",
            "| 500.0|317.19255388614835|\n",
            "| 125.0| 49.62308473086203|\n",
            "| 210.0| 404.5330088986664|\n",
            "|  60.0|175.66710604765103|\n",
            "| 170.0| 420.0144354203748|\n",
            "| 214.0|167.92639278679684|\n",
            "| 120.0|167.92639278679684|\n",
            "|  82.0|183.40781930850522|\n",
            "| 169.0| 404.5330088986664|\n",
            "+------+------------------+\n",
            "only showing top 20 rows\n",
            "\n"
          ]
        }
      ]
    },
    {
      "cell_type": "code",
      "source": [
        "dtypes=traindf.dtypes"
      ],
      "metadata": {
        "id": "1ejDLGNNUxza"
      },
      "execution_count": 65,
      "outputs": []
    },
    {
      "cell_type": "code",
      "source": [
        "dtypes"
      ],
      "metadata": {
        "colab": {
          "base_uri": "https://localhost:8080/"
        },
        "id": "aXm1VzWSU25k",
        "outputId": "79d73848-aaf0-442a-e9bc-952e91c33672"
      },
      "execution_count": 68,
      "outputs": [
        {
          "output_type": "execute_result",
          "data": {
            "text/plain": [
              "[('host_is_superhost', 'string'),\n",
              " ('cancellation_policy', 'string'),\n",
              " ('instant_bookable', 'string'),\n",
              " ('host_total_listings_count', 'double'),\n",
              " ('neighbourhood_cleansed', 'string'),\n",
              " ('latitude', 'double'),\n",
              " ('longitude', 'double'),\n",
              " ('property_type', 'string'),\n",
              " ('room_type', 'string'),\n",
              " ('accommodates', 'double'),\n",
              " ('bathrooms', 'double'),\n",
              " ('bedrooms', 'double'),\n",
              " ('beds', 'double'),\n",
              " ('bed_type', 'string'),\n",
              " ('minimum_nights', 'double'),\n",
              " ('number_of_reviews', 'double'),\n",
              " ('review_scores_rating', 'double'),\n",
              " ('review_scores_accuracy', 'double'),\n",
              " ('review_scores_cleanliness', 'double'),\n",
              " ('review_scores_checkin', 'double'),\n",
              " ('review_scores_communication', 'double'),\n",
              " ('review_scores_location', 'double'),\n",
              " ('review_scores_value', 'double'),\n",
              " ('price', 'double'),\n",
              " ('bedrooms_na', 'double'),\n",
              " ('bathrooms_na', 'double'),\n",
              " ('beds_na', 'double'),\n",
              " ('review_scores_rating_na', 'double'),\n",
              " ('review_scores_accuracy_na', 'double'),\n",
              " ('review_scores_cleanliness_na', 'double'),\n",
              " ('review_scores_checkin_na', 'double'),\n",
              " ('review_scores_communication_na', 'double'),\n",
              " ('review_scores_location_na', 'double'),\n",
              " ('review_scores_value_na', 'double')]"
            ]
          },
          "metadata": {},
          "execution_count": 68
        }
      ]
    },
    {
      "cell_type": "code",
      "source": [
        "num_dtype=[f for (f,d) in dtypes if (d==\"double\" and f !=\"price\")]\n"
      ],
      "metadata": {
        "id": "T3WbuTGuJmOW"
      },
      "execution_count": 86,
      "outputs": []
    },
    {
      "cell_type": "code",
      "source": [
        "num_dtype"
      ],
      "metadata": {
        "colab": {
          "base_uri": "https://localhost:8080/"
        },
        "id": "oczVAdtUVSE1",
        "outputId": "b68dff8b-6777-4e89-b61b-a1ade53d9809"
      },
      "execution_count": 87,
      "outputs": [
        {
          "output_type": "execute_result",
          "data": {
            "text/plain": [
              "['host_total_listings_count',\n",
              " 'latitude',\n",
              " 'longitude',\n",
              " 'accommodates',\n",
              " 'bathrooms',\n",
              " 'bedrooms',\n",
              " 'beds',\n",
              " 'minimum_nights',\n",
              " 'number_of_reviews',\n",
              " 'review_scores_rating',\n",
              " 'review_scores_accuracy',\n",
              " 'review_scores_cleanliness',\n",
              " 'review_scores_checkin',\n",
              " 'review_scores_communication',\n",
              " 'review_scores_location',\n",
              " 'review_scores_value',\n",
              " 'bedrooms_na',\n",
              " 'bathrooms_na',\n",
              " 'beds_na',\n",
              " 'review_scores_rating_na',\n",
              " 'review_scores_accuracy_na',\n",
              " 'review_scores_cleanliness_na',\n",
              " 'review_scores_checkin_na',\n",
              " 'review_scores_communication_na',\n",
              " 'review_scores_location_na',\n",
              " 'review_scores_value_na']"
            ]
          },
          "metadata": {},
          "execution_count": 87
        }
      ]
    },
    {
      "cell_type": "code",
      "source": [
        "categorical_dtype=[f for (f,d) in dtypes if d==\"string\"]\n"
      ],
      "metadata": {
        "id": "L99yyjJFVT16"
      },
      "execution_count": 76,
      "outputs": []
    },
    {
      "cell_type": "code",
      "source": [
        "\n",
        "categorical_dtype"
      ],
      "metadata": {
        "colab": {
          "base_uri": "https://localhost:8080/"
        },
        "id": "pN3SOQ3gVcOs",
        "outputId": "e5cc040c-8b98-44dc-9f46-e0a5c27c7209"
      },
      "execution_count": 77,
      "outputs": [
        {
          "output_type": "execute_result",
          "data": {
            "text/plain": [
              "['host_is_superhost',\n",
              " 'cancellation_policy',\n",
              " 'instant_bookable',\n",
              " 'neighbourhood_cleansed',\n",
              " 'property_type',\n",
              " 'room_type',\n",
              " 'bed_type']"
            ]
          },
          "metadata": {},
          "execution_count": 77
        }
      ]
    },
    {
      "cell_type": "code",
      "source": [
        "#any string datatype must to convert using StringIndxer then one hot encoding\n"
      ],
      "metadata": {
        "id": "wehkf8Z6Vif-"
      },
      "execution_count": null,
      "outputs": []
    },
    {
      "cell_type": "code",
      "source": [
        "from pyspark.ml.feature import  StringIndexer,VectorAssembler,OneHotEncoder"
      ],
      "metadata": {
        "id": "Uwh2tLwDWCd3"
      },
      "execution_count": 91,
      "outputs": []
    },
    {
      "cell_type": "code",
      "source": [
        "inx_out_cat_col=[f+\"_index\" for f in categorical_dtype]\n"
      ],
      "metadata": {
        "id": "SaPhDSbkWO35"
      },
      "execution_count": 81,
      "outputs": []
    },
    {
      "cell_type": "code",
      "source": [
        "inx_out_cat_col"
      ],
      "metadata": {
        "colab": {
          "base_uri": "https://localhost:8080/"
        },
        "id": "mOA4_al2WuhA",
        "outputId": "664f36d5-6cd0-434d-959a-21b4d0a17c62"
      },
      "execution_count": 82,
      "outputs": [
        {
          "output_type": "execute_result",
          "data": {
            "text/plain": [
              "['host_is_superhost_index',\n",
              " 'cancellation_policy_index',\n",
              " 'instant_bookable_index',\n",
              " 'neighbourhood_cleansed_index',\n",
              " 'property_type_index',\n",
              " 'room_type_index',\n",
              " 'bed_type_index']"
            ]
          },
          "metadata": {},
          "execution_count": 82
        }
      ]
    },
    {
      "cell_type": "code",
      "source": [
        "#then onehotencoding\n",
        "OHE_out_cat_col=[f+\"_OHE\" for f in categorical_dtype]"
      ],
      "metadata": {
        "id": "BHGhV68zWwKv"
      },
      "execution_count": 88,
      "outputs": []
    },
    {
      "cell_type": "code",
      "source": [
        "#take OHE_out_cat_col with numeric cols to be the final features\n",
        "vector_col_input=num_dtype+OHE_out_cat_col"
      ],
      "metadata": {
        "id": "8d4jk_bSXeb1"
      },
      "execution_count": 89,
      "outputs": []
    },
    {
      "cell_type": "code",
      "source": [
        "vector_col_input"
      ],
      "metadata": {
        "colab": {
          "base_uri": "https://localhost:8080/"
        },
        "id": "kNY04KFxX63T",
        "outputId": "9d910f3d-51cf-41c4-bdf1-33186edc6508"
      },
      "execution_count": 90,
      "outputs": [
        {
          "output_type": "execute_result",
          "data": {
            "text/plain": [
              "['host_total_listings_count',\n",
              " 'latitude',\n",
              " 'longitude',\n",
              " 'accommodates',\n",
              " 'bathrooms',\n",
              " 'bedrooms',\n",
              " 'beds',\n",
              " 'minimum_nights',\n",
              " 'number_of_reviews',\n",
              " 'review_scores_rating',\n",
              " 'review_scores_accuracy',\n",
              " 'review_scores_cleanliness',\n",
              " 'review_scores_checkin',\n",
              " 'review_scores_communication',\n",
              " 'review_scores_location',\n",
              " 'review_scores_value',\n",
              " 'bedrooms_na',\n",
              " 'bathrooms_na',\n",
              " 'beds_na',\n",
              " 'review_scores_rating_na',\n",
              " 'review_scores_accuracy_na',\n",
              " 'review_scores_cleanliness_na',\n",
              " 'review_scores_checkin_na',\n",
              " 'review_scores_communication_na',\n",
              " 'review_scores_location_na',\n",
              " 'review_scores_value_na',\n",
              " 'host_is_superhost_OHE',\n",
              " 'cancellation_policy_OHE',\n",
              " 'instant_bookable_OHE',\n",
              " 'neighbourhood_cleansed_OHE',\n",
              " 'property_type_OHE',\n",
              " 'room_type_OHE',\n",
              " 'bed_type_OHE']"
            ]
          },
          "metadata": {},
          "execution_count": 90
        }
      ]
    },
    {
      "cell_type": "code",
      "source": [
        "SRITNG_INDEXER=StringIndexer(inputCols=categorical_dtype,outputCols=inx_out_cat_col,handleInvalid=\"skip\")\n",
        "ONE_HOT_ENCODIN=OneHotEncoder(inputCols=inx_out_cat_col,outputCols=OHE_out_cat_col )\n",
        "VECTOR_ASSEMBLER=VectorAssembler(inputCols=vector_col_input,outputCol=\"features\")"
      ],
      "metadata": {
        "id": "C8vfsxNLX8FN"
      },
      "execution_count": 92,
      "outputs": []
    },
    {
      "cell_type": "code",
      "source": [
        "lr=LinearRegression(featuresCol=\"features\",labelCol=\"price\",predictionCol=\"prediction\")\n"
      ],
      "metadata": {
        "id": "JunkDCU5Y1xi"
      },
      "execution_count": 93,
      "outputs": []
    },
    {
      "cell_type": "code",
      "source": [
        "myStages=[SRITNG_INDEXER,ONE_HOT_ENCODIN,VECTOR_ASSEMBLER,lr]\n",
        "pl=Pipeline(stages=myStages)\n",
        "pl_model=pl.fit(traindf)"
      ],
      "metadata": {
        "id": "UQ9CHW-Tcl33"
      },
      "execution_count": 94,
      "outputs": []
    },
    {
      "cell_type": "code",
      "source": [
        "pred_df=pl_model.transform(testdf)"
      ],
      "metadata": {
        "id": "Veh8nOtqdFdR"
      },
      "execution_count": 95,
      "outputs": []
    },
    {
      "cell_type": "code",
      "source": [
        "pred_df.printSchema()"
      ],
      "metadata": {
        "colab": {
          "base_uri": "https://localhost:8080/"
        },
        "id": "AV-IhxeGdMc9",
        "outputId": "6d58ee68-1c55-43d1-cf53-ac9ff72346b0"
      },
      "execution_count": 96,
      "outputs": [
        {
          "output_type": "stream",
          "name": "stdout",
          "text": [
            "root\n",
            " |-- host_is_superhost: string (nullable = true)\n",
            " |-- cancellation_policy: string (nullable = true)\n",
            " |-- instant_bookable: string (nullable = true)\n",
            " |-- host_total_listings_count: double (nullable = true)\n",
            " |-- neighbourhood_cleansed: string (nullable = true)\n",
            " |-- latitude: double (nullable = true)\n",
            " |-- longitude: double (nullable = true)\n",
            " |-- property_type: string (nullable = true)\n",
            " |-- room_type: string (nullable = true)\n",
            " |-- accommodates: double (nullable = true)\n",
            " |-- bathrooms: double (nullable = true)\n",
            " |-- bedrooms: double (nullable = true)\n",
            " |-- beds: double (nullable = true)\n",
            " |-- bed_type: string (nullable = true)\n",
            " |-- minimum_nights: double (nullable = true)\n",
            " |-- number_of_reviews: double (nullable = true)\n",
            " |-- review_scores_rating: double (nullable = true)\n",
            " |-- review_scores_accuracy: double (nullable = true)\n",
            " |-- review_scores_cleanliness: double (nullable = true)\n",
            " |-- review_scores_checkin: double (nullable = true)\n",
            " |-- review_scores_communication: double (nullable = true)\n",
            " |-- review_scores_location: double (nullable = true)\n",
            " |-- review_scores_value: double (nullable = true)\n",
            " |-- price: double (nullable = true)\n",
            " |-- bedrooms_na: double (nullable = true)\n",
            " |-- bathrooms_na: double (nullable = true)\n",
            " |-- beds_na: double (nullable = true)\n",
            " |-- review_scores_rating_na: double (nullable = true)\n",
            " |-- review_scores_accuracy_na: double (nullable = true)\n",
            " |-- review_scores_cleanliness_na: double (nullable = true)\n",
            " |-- review_scores_checkin_na: double (nullable = true)\n",
            " |-- review_scores_communication_na: double (nullable = true)\n",
            " |-- review_scores_location_na: double (nullable = true)\n",
            " |-- review_scores_value_na: double (nullable = true)\n",
            " |-- host_is_superhost_index: double (nullable = false)\n",
            " |-- cancellation_policy_index: double (nullable = false)\n",
            " |-- instant_bookable_index: double (nullable = false)\n",
            " |-- neighbourhood_cleansed_index: double (nullable = false)\n",
            " |-- property_type_index: double (nullable = false)\n",
            " |-- room_type_index: double (nullable = false)\n",
            " |-- bed_type_index: double (nullable = false)\n",
            " |-- host_is_superhost_OHE: vector (nullable = true)\n",
            " |-- cancellation_policy_OHE: vector (nullable = true)\n",
            " |-- instant_bookable_OHE: vector (nullable = true)\n",
            " |-- neighbourhood_cleansed_OHE: vector (nullable = true)\n",
            " |-- property_type_OHE: vector (nullable = true)\n",
            " |-- room_type_OHE: vector (nullable = true)\n",
            " |-- bed_type_OHE: vector (nullable = true)\n",
            " |-- features: vector (nullable = true)\n",
            " |-- prediction: double (nullable = false)\n",
            "\n"
          ]
        }
      ]
    },
    {
      "cell_type": "code",
      "source": [
        "pred_df.select(\"room_type_OHE\",\"bed_type_OHE\",\"property_type_OHE\",\"features\").show()"
      ],
      "metadata": {
        "colab": {
          "base_uri": "https://localhost:8080/"
        },
        "id": "QxeFZ-lGdRTw",
        "outputId": "4bce87ab-2de5-424f-87cf-8cc1ed27eab1"
      },
      "execution_count": 98,
      "outputs": [
        {
          "output_type": "stream",
          "name": "stdout",
          "text": [
            "+-------------+-------------+-----------------+--------------------+\n",
            "|room_type_OHE| bed_type_OHE|property_type_OHE|            features|\n",
            "+-------------+-------------+-----------------+--------------------+\n",
            "|(2,[0],[1.0])|(4,[0],[1.0])|   (24,[1],[1.0])|(98,[0,1,2,3,4,5,...|\n",
            "|(2,[1],[1.0])|(4,[0],[1.0])|   (24,[1],[1.0])|(98,[0,1,2,3,4,5,...|\n",
            "|(2,[1],[1.0])|(4,[0],[1.0])|   (24,[1],[1.0])|(98,[0,1,2,3,4,5,...|\n",
            "|(2,[1],[1.0])|(4,[0],[1.0])|   (24,[0],[1.0])|(98,[0,1,2,3,4,5,...|\n",
            "|(2,[1],[1.0])|(4,[0],[1.0])|   (24,[1],[1.0])|(98,[0,1,2,3,4,5,...|\n",
            "|(2,[0],[1.0])|(4,[0],[1.0])|   (24,[1],[1.0])|(98,[0,1,2,3,4,5,...|\n",
            "|(2,[0],[1.0])|(4,[0],[1.0])|   (24,[0],[1.0])|(98,[0,1,2,3,4,5,...|\n",
            "|(2,[0],[1.0])|(4,[0],[1.0])|   (24,[0],[1.0])|(98,[0,1,2,3,4,5,...|\n",
            "|(2,[1],[1.0])|(4,[0],[1.0])|   (24,[0],[1.0])|(98,[0,1,2,3,4,5,...|\n",
            "|(2,[0],[1.0])|(4,[0],[1.0])|   (24,[1],[1.0])|(98,[0,1,2,3,4,5,...|\n",
            "|(2,[0],[1.0])|(4,[0],[1.0])|   (24,[1],[1.0])|(98,[0,1,2,3,4,5,...|\n",
            "|(2,[0],[1.0])|(4,[0],[1.0])|   (24,[1],[1.0])|(98,[0,1,2,3,4,5,...|\n",
            "|(2,[0],[1.0])|(4,[0],[1.0])|   (24,[0],[1.0])|(98,[0,1,2,3,4,6,...|\n",
            "|(2,[0],[1.0])|(4,[0],[1.0])|   (24,[0],[1.0])|(98,[0,1,2,3,4,5,...|\n",
            "|(2,[1],[1.0])|(4,[0],[1.0])|   (24,[1],[1.0])|(98,[0,1,2,3,4,5,...|\n",
            "|(2,[0],[1.0])|(4,[0],[1.0])|   (24,[0],[1.0])|(98,[0,1,2,3,4,5,...|\n",
            "|(2,[0],[1.0])|(4,[0],[1.0])|   (24,[0],[1.0])|(98,[0,1,2,3,4,5,...|\n",
            "|(2,[1],[1.0])|(4,[0],[1.0])|   (24,[3],[1.0])|(98,[0,1,2,3,4,5,...|\n",
            "|(2,[1],[1.0])|(4,[0],[1.0])|   (24,[0],[1.0])|(98,[0,1,2,3,4,5,...|\n",
            "|(2,[0],[1.0])|(4,[0],[1.0])|   (24,[1],[1.0])|(98,[0,1,2,3,4,5,...|\n",
            "+-------------+-------------+-----------------+--------------------+\n",
            "only showing top 20 rows\n",
            "\n"
          ]
        }
      ]
    },
    {
      "cell_type": "code",
      "source": [
        "pred_df.select(\"price\",\"prediction\").show()"
      ],
      "metadata": {
        "colab": {
          "base_uri": "https://localhost:8080/"
        },
        "id": "zcECCU1Nd5bn",
        "outputId": "c331e3a8-d35c-4cbf-a957-ce34665e2a4d"
      },
      "execution_count": 99,
      "outputs": [
        {
          "output_type": "stream",
          "name": "stdout",
          "text": [
            "+------+------------------+\n",
            "| price|        prediction|\n",
            "+------+------------------+\n",
            "|  85.0|55.195630555236676|\n",
            "|  45.0| 22.27839420925011|\n",
            "|  70.0| 26.68714705913044|\n",
            "| 128.0|-91.85797325820567|\n",
            "| 159.0| 94.35651802111897|\n",
            "| 250.0|   262.90699830428|\n",
            "|  99.0|152.47252897306498|\n",
            "|  95.0| 180.8137666634466|\n",
            "| 100.0|-52.45553844139067|\n",
            "|2010.0| 260.7058365633957|\n",
            "| 270.0|165.60402191550565|\n",
            "| 500.0| 377.6569982400006|\n",
            "| 125.0|  78.3505358526736|\n",
            "| 210.0|361.87158651966365|\n",
            "|  60.0|106.82934331114575|\n",
            "| 170.0| 401.9117809044046|\n",
            "| 214.0|232.82216499633614|\n",
            "| 120.0|128.88821141215612|\n",
            "|  82.0|108.63538872166282|\n",
            "| 169.0| 370.2770565220544|\n",
            "+------+------------------+\n",
            "only showing top 20 rows\n",
            "\n"
          ]
        }
      ]
    },
    {
      "cell_type": "code",
      "source": [
        "from pyspark.ml.evaluation import RegressionEvaluator"
      ],
      "metadata": {
        "id": "NnRVvRdWew-X"
      },
      "execution_count": 101,
      "outputs": []
    },
    {
      "cell_type": "code",
      "source": [
        "re_eval=RegressionEvaluator(predictionCol=\"prediction\",labelCol=\"price\",metricName=\"rmse\")"
      ],
      "metadata": {
        "id": "zP7k3hgifeDe"
      },
      "execution_count": 102,
      "outputs": []
    },
    {
      "cell_type": "code",
      "source": [
        "re_eval.evaluate(pred_df)"
      ],
      "metadata": {
        "colab": {
          "base_uri": "https://localhost:8080/"
        },
        "id": "NdFNX-legUGG",
        "outputId": "db45213f-1806-4470-a086-dcb827a9728d"
      },
      "execution_count": 103,
      "outputs": [
        {
          "output_type": "execute_result",
          "data": {
            "text/plain": [
              "220.69792737308603"
            ]
          },
          "metadata": {},
          "execution_count": 103
        }
      ]
    },
    {
      "cell_type": "code",
      "source": [
        "testdf.describe().select(\"summary\",\"price\").show()"
      ],
      "metadata": {
        "colab": {
          "base_uri": "https://localhost:8080/"
        },
        "id": "1TJtsKF6gZ2m",
        "outputId": "8af5b858-acff-46d0-8234-e115a559f8cc"
      },
      "execution_count": 105,
      "outputs": [
        {
          "output_type": "stream",
          "name": "stdout",
          "text": [
            "+-------+------------------+\n",
            "|summary|             price|\n",
            "+-------+------------------+\n",
            "|  count|              1366|\n",
            "|   mean|208.39019033674964|\n",
            "| stddev|240.72061386663594|\n",
            "|    min|              28.0|\n",
            "|    max|            4500.0|\n",
            "+-------+------------------+\n",
            "\n"
          ]
        }
      ]
    },
    {
      "cell_type": "code",
      "source": [
        "re_eval=RegressionEvaluator(predictionCol=\"prediction\",labelCol=\"price\",metricName=\"r2\")"
      ],
      "metadata": {
        "id": "OBNFAQvBg6Z7"
      },
      "execution_count": 109,
      "outputs": []
    },
    {
      "cell_type": "code",
      "source": [
        "print(re_eval.evaluate(pred_df))\n",
        "testdf.describe().select(\"summary\",\"price\").show()"
      ],
      "metadata": {
        "colab": {
          "base_uri": "https://localhost:8080/"
        },
        "id": "h_5aMvOuhWSJ",
        "outputId": "93f4cd82-905b-4d62-9476-33766224cf5f"
      },
      "execution_count": 112,
      "outputs": [
        {
          "output_type": "stream",
          "name": "stdout",
          "text": [
            "0.15940731238114536\n",
            "+-------+------------------+\n",
            "|summary|             price|\n",
            "+-------+------------------+\n",
            "|  count|              1366|\n",
            "|   mean|208.39019033674964|\n",
            "| stddev|240.72061386663594|\n",
            "|    min|              28.0|\n",
            "|    max|            4500.0|\n",
            "+-------+------------------+\n",
            "\n"
          ]
        }
      ]
    },
    {
      "cell_type": "code",
      "source": [
        ""
      ],
      "metadata": {
        "id": "fekttzBwhZlg"
      },
      "execution_count": null,
      "outputs": []
    }
  ]
}