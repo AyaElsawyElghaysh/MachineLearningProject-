{
 "cells": [
  {
   "cell_type": "markdown",
   "id": "74f2ca48",
   "metadata": {},
   "source": [
    "# Non- Linear regression"
   ]
  },
  {
   "cell_type": "code",
   "execution_count": null,
   "id": "d25efed2",
   "metadata": {},
   "outputs": [],
   "source": [
    "import numpy as np\n",
    "import matplotlib.pylab as plt\n",
    "import pandas as pd\n",
    "%matplotlib inline\n",
    "from sklearn import datasets\n",
    "from sklearn.preprocessing import StandardScaler\n",
    "from sklearn.preprocessing import RobustScaler\n",
    "from sklearn.model_selection import train_test_split\n",
    "from sklearn import metrics\n",
    "from sklearn.linear_model import LogisticRegression\n",
    "from sklearn.linear_model import LinearRegression\n",
    "from sklearn.preprocessing import PolynomialFeatures\n"
   ]
  },
  {
   "cell_type": "code",
   "execution_count": null,
   "id": "b1a4edb8",
   "metadata": {},
   "outputs": [],
   "source": [
    "np.random.seed(0)"
   ]
  },
  {
   "cell_type": "code",
   "execution_count": null,
   "id": "e0f72557",
   "metadata": {},
   "outputs": [],
   "source": [
    "data=np.load(\"data.npy\")   #first col is feature and second col is label\n",
    "#data"
   ]
  },
  {
   "cell_type": "markdown",
   "id": "81062315",
   "metadata": {},
   "source": [
    "# Extract X and Y"
   ]
  },
  {
   "cell_type": "code",
   "execution_count": null,
   "id": "0d3dedc5",
   "metadata": {},
   "outputs": [],
   "source": [
    "x=data[:,0]\n",
    "X=x.reshape((-1,1))\n",
    "#X"
   ]
  },
  {
   "cell_type": "code",
   "execution_count": null,
   "id": "2109c39d",
   "metadata": {},
   "outputs": [],
   "source": [
    "y=data[:,1]\n",
    "Y=y.reshape((-1,1))"
   ]
  },
  {
   "cell_type": "code",
   "execution_count": null,
   "id": "87335eca",
   "metadata": {},
   "outputs": [],
   "source": [
    "#Y"
   ]
  },
  {
   "cell_type": "markdown",
   "id": "0e82a741",
   "metadata": {},
   "source": [
    "# discover data"
   ]
  },
  {
   "cell_type": "code",
   "execution_count": null,
   "id": "2efca7bf",
   "metadata": {},
   "outputs": [],
   "source": [
    "plt.scatter(X,Y)\n",
    "plt.xlabel(\"X\")\n",
    "plt.ylabel(\"Y\")"
   ]
  },
  {
   "cell_type": "code",
   "execution_count": 23,
   "id": "d8a76045",
   "metadata": {},
   "outputs": [],
   "source": [
    "#from the scatter plot there is a relation between x,y but non linear "
   ]
  },
  {
   "cell_type": "markdown",
   "id": "a47b92d2",
   "metadata": {},
   "source": [
    "# Split data "
   ]
  },
  {
   "cell_type": "code",
   "execution_count": 24,
   "id": "f50f7f57",
   "metadata": {},
   "outputs": [],
   "source": [
    "x_train, x_test, y_train, y_test = train_test_split(X, y, test_size=0.2, random_state=2)"
   ]
  },
  {
   "cell_type": "code",
   "execution_count": 25,
   "id": "7d2e0673",
   "metadata": {},
   "outputs": [],
   "source": [
    "#Apply Simple Linear regression model to see the output\n",
    "lg=LinearRegression()\n",
    "lg.fit(x_train,y_train)\n",
    "ypre=lg.predict(x_test)"
   ]
  },
  {
   "cell_type": "code",
   "execution_count": 26,
   "id": "1aa64045",
   "metadata": {},
   "outputs": [
    {
     "data": {
      "image/png": "[encoded data removed]",
      "text/plain": [
       "<Figure size 432x288 with 1 Axes>"
      ]
     },
     "metadata": {
      "needs_background": "light"
     },
     "output_type": "display_data"
    }
   ],
   "source": [
    "#plot fitted line with data\n",
    "plt.scatter(x_train,y_train,c='g')\n",
    "plt.plot(x_train,lg.predict(x_train),'r')  #model prediction \n",
    "plt.show()"
   ]
  },
  {
   "cell_type": "markdown",
   "id": "b089f3aa",
   "metadata": {},
   "source": [
    "# Trying to make sense without  PolynomialFeatures library in sklern "
   ]
  },
  {
   "cell_type": "code",
   "execution_count": 27,
   "id": "2ff9e02b",
   "metadata": {},
   "outputs": [],
   "source": [
    "#we will use ploynomial regression to compute the perfet fitted line\n",
    "#y=a+bx1+cx**2+....."
   ]
  },
  {
   "cell_type": "code",
   "execution_count": 37,
   "id": "219e0f5d",
   "metadata": {},
   "outputs": [],
   "source": [
    "#Increase more features to get better line\n",
    "#let`s add x**2 and plot\n",
    "add_X=X**2\n",
    "tird=X**3\n",
    "bias=np.ones_like(add_X)\n",
    "#tird"
   ]
  },
  {
   "cell_type": "markdown",
   "id": "31925bd0",
   "metadata": {},
   "source": [
    "# append Two feature"
   ]
  },
  {
   "cell_type": "code",
   "execution_count": 40,
   "id": "64b548d7",
   "metadata": {},
   "outputs": [],
   "source": [
    "features=np.concatenate((bias,X,add_X,tird),axis=1)\n",
    "#features"
   ]
  },
  {
   "cell_type": "code",
   "execution_count": 41,
   "id": "aea3b2fd",
   "metadata": {},
   "outputs": [
    {
     "data": {
      "text/plain": [
       "(320, 4)"
      ]
     },
     "execution_count": 41,
     "metadata": {},
     "output_type": "execute_result"
    }
   ],
   "source": [
    "#let`s repeat \n",
    "x_tr, x_t, y_tr, y_ts = train_test_split(features, y, test_size=0.2, random_state=2)\n",
    "x_tr.shape"
   ]
  },
  {
   "cell_type": "code",
   "execution_count": null,
   "id": "1aed998c",
   "metadata": {},
   "outputs": [],
   "source": []
  },
  {
   "cell_type": "code",
   "execution_count": 42,
   "id": "5d27de92",
   "metadata": {},
   "outputs": [],
   "source": [
    "lg=LinearRegression()\n",
    "lg.fit(x_tr,y_tr)\n",
    "ypre=lg.predict(x_t)"
   ]
  },
  {
   "cell_type": "code",
   "execution_count": 45,
   "id": "cb6c019d",
   "metadata": {},
   "outputs": [],
   "source": [
    "s=metrics.r2_score(ypre,y_ts)"
   ]
  },
  {
   "cell_type": "code",
   "execution_count": 46,
   "id": "40e245b1",
   "metadata": {},
   "outputs": [
    {
     "data": {
      "text/plain": [
       "0.9680678323653094"
      ]
     },
     "execution_count": 46,
     "metadata": {},
     "output_type": "execute_result"
    }
   ],
   "source": [
    "s #ploynominal order 3"
   ]
  },
  {
   "cell_type": "code",
   "execution_count": 19,
   "id": "fc29953f",
   "metadata": {},
   "outputs": [],
   "source": [
    " \n"
   ]
  },
  {
   "cell_type": "markdown",
   "id": "6fe1030e",
   "metadata": {},
   "source": [
    "# By Using PolynomialFeatures from sklearn"
   ]
  },
  {
   "cell_type": "code",
   "execution_count": 63,
   "id": "1c3e2f9e",
   "metadata": {},
   "outputs": [
    {
     "name": "stdout",
     "output_type": "stream",
     "text": [
      "0.9263211582484191\n"
     ]
    }
   ],
   "source": [
    "#applying polynomial regression degree 2\n",
    "poly = PolynomialFeatures(degree=2, include_bias=True)\n",
    "x_train_trans = poly.fit_transform(x_train)\n",
    "x_test_trans = poly.transform(x_test)\n",
    "lr = LinearRegression()\n",
    "lr.fit(x_train_trans, y_train)\n",
    "y_pred = lr.predict(x_test_trans)\n",
    "print(metrics.r2_score(y_test, y_pred))"
   ]
  },
  {
   "cell_type": "code",
   "execution_count": 64,
   "id": "4dbd6882",
   "metadata": {},
   "outputs": [],
   "source": [
    "#x_train_trans"
   ]
  },
  {
   "cell_type": "code",
   "execution_count": 65,
   "id": "69363942",
   "metadata": {},
   "outputs": [
    {
     "data": {
      "text/plain": [
       "[<matplotlib.lines.Line2D at 0x2427922f6d0>]"
      ]
     },
     "execution_count": 65,
     "metadata": {},
     "output_type": "execute_result"
    },
    {
     "data": {
      "image/png": "[encoded data removed]",
      "text/plain": [
       "<Figure size 432x288 with 1 Axes>"
      ]
     },
     "metadata": {
      "needs_background": "light"
     },
     "output_type": "display_data"
    }
   ],
   "source": [
    "xpoint=np.linspace(-3,3,200).reshape((200,1))\n",
    "xtransform=poly.transform(xpoint) ## by using transform : learned how to fit data\n",
    "yp=lr.predict(xtransform)\n",
    "plt.plot(x_train, y_train,\"b.\")\n",
    "plt.plot(x_test,y_test,\"r.\")\n",
    "plt.plot(x_test,y_pred,\"g.\")\n",
    "plt.plot(xpoint,yp)\n"
   ]
  },
  {
   "cell_type": "code",
   "execution_count": null,
   "id": "5b88eddc",
   "metadata": {},
   "outputs": [],
   "source": []
  },
  {
   "cell_type": "code",
   "execution_count": null,
   "id": "c6836414",
   "metadata": {},
   "outputs": [],
   "source": []
  }
 ],
 "metadata": {
  "kernelspec": {
   "display_name": "Python 3 (ipykernel)",
   "language": "python",
   "name": "python3"
  },
  "language_info": {
   "codemirror_mode": {
    "name": "ipython",
    "version": 3
   },
   "file_extension": ".py",
   "mimetype": "text/x-python",
   "name": "python",
   "nbconvert_exporter": "python",
   "pygments_lexer": "ipython3",
   "version": "3.9.0"
  }
 },
 "nbformat": 4,
 "nbformat_minor": 5
}
